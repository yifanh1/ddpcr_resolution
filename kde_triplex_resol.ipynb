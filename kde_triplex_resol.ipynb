{
 "cells": [
  {
   "cell_type": "code",
   "execution_count": 1,
   "metadata": {},
   "outputs": [],
   "source": [
    "%matplotlib inline\n",
    "import matplotlib.pyplot as plt\n",
    "import seaborn as sns;sns.set()\n",
    "import numpy as np\n",
    "import pandas as pd"
   ]
  },
  {
   "cell_type": "code",
   "execution_count": 2,
   "metadata": {},
   "outputs": [],
   "source": [
    "def make_data(N,f=0.3,rseed=1):\n",
    "    rand=np.random.RandomState(rseed)\n",
    "    x=rand.randn(N)\n",
    "    x[int(f*N):]+=5\n",
    "    return x\n",
    "x=make_data(1000)"
   ]
  },
  {
   "cell_type": "code",
   "execution_count": 4,
   "metadata": {},
   "outputs": [],
   "source": [
    "data=pd.read_csv(\"mfa_2019_07_03_TRIPLEX_16_probe_concentration_A03_Amplitude.csv\")\n",
    "#data=pd.read_csv(\"mfa_12_6_2018_hpv_A10_Amplitude.csv\")\n",
    "data.dropna(axis=0,how='all')  \n",
    "X=data.iloc[:,0]#Amplitude data"
   ]
  },
  {
   "cell_type": "code",
   "execution_count": 5,
   "metadata": {
    "scrolled": true
   },
   "outputs": [
    {
     "data": {
      "image/png": "[encoded data removed]",
      "text/plain": [
       "<Figure size 432x288 with 1 Axes>"
      ]
     },
     "metadata": {
      "needs_background": "light"
     },
     "output_type": "display_data"
    }
   ],
   "source": [
    "hist=plt.hist(X,bins=100,density=True)"
   ]
  },
  {
   "cell_type": "code",
   "execution_count": 8,
   "metadata": {},
   "outputs": [
    {
     "data": {
      "text/plain": [
       "\"\\nfrom sklearn.model_selection import GridSearchCV\\nfrom sklearn.model_selection import LeaveOneOut\\nbd=10**np.linspace(1,3.6,50)\\ngrid=GridSearchCV(KernelDensity(kernel='gaussian'),\\n                  {'bandwidth':bd},\\n                  \\n                  )\\ngrid.fit(X[:,None]);\\nbd=grid.best_params_['bandwidth']\\n\\nprint(bd)\""
      ]
     },
     "execution_count": 8,
     "metadata": {},
     "output_type": "execute_result"
    }
   ],
   "source": [
    "# choose bandwidth (cross validation)\n",
    "\n",
    "from sklearn.neighbors import KernelDensity\n",
    "'''\n",
    "from sklearn.model_selection import GridSearchCV\n",
    "from sklearn.model_selection import LeaveOneOut\n",
    "bd=10**np.linspace(1,3.6,50)\n",
    "grid=GridSearchCV(KernelDensity(kernel='gaussian'),\n",
    "                  {'bandwidth':bd},\n",
    "                  \n",
    "                  )\n",
    "grid.fit(X[:,None]);\n",
    "bd=grid.best_params_['bandwidth']\n",
    "\n",
    "print(bd)'''"
   ]
  },
  {
   "cell_type": "code",
   "execution_count": 10,
   "metadata": {
    "scrolled": false
   },
   "outputs": [
    {
     "data": {
      "image/png": "[encoded data removed]",
      "text/plain": [
       "<Figure size 432x288 with 1 Axes>"
      ]
     },
     "metadata": {
      "needs_background": "light"
     },
     "output_type": "display_data"
    }
   ],
   "source": [
    "#initialize and fit the KDE model\n",
    "kde=KernelDensity(bandwidth=400,kernel='gaussian')\n",
    "kde.fit(X[:,None])\n",
    "#score_samples return the density's logarithm\n",
    "X_d=np.linspace(min(X),max(X),len(X))\n",
    "logprob=kde.score_samples(X_d[:,None])\n",
    "\n",
    "plt.fill_between(X_d,np.exp(logprob),edgecolor='blue',fc='blue')\n",
    "d=np.exp(logprob)\n",
    "#plt.plot(X,np.full_like(X,0),'|k',markeredgewidth=0.1)\n",
    "#Overfitting using bd"
   ]
  },
  {
   "cell_type": "code",
   "execution_count": 11,
   "metadata": {
    "scrolled": true
   },
   "outputs": [
    {
     "data": {
      "text/plain": [
       "<matplotlib.collections.PolyCollection at 0x21f60747bc8>"
      ]
     },
     "execution_count": 11,
     "metadata": {},
     "output_type": "execute_result"
    },
    {
     "data": {
      "image/png": "[encoded data removed]",
      "text/plain": [
       "<Figure size 432x288 with 1 Axes>"
      ]
     },
     "metadata": {
      "needs_background": "light"
     },
     "output_type": "display_data"
    }
   ],
   "source": [
    "#use scipy.stats.gaussian_kde to plot\n",
    "import scipy.stats as scis\n",
    "KDE=scis.gaussian_kde(X,bw_method='silverman')\n",
    "X_d=np.linspace(min(X),max(X),len(X))\n",
    "d=KDE(X_d)\n",
    "plt.fill_between(X_d,d,edgecolor='steelblue',fc='steelblue')"
   ]
  },
  {
   "cell_type": "code",
   "execution_count": null,
   "metadata": {},
   "outputs": [],
   "source": [
    "#add a div None/True here.\n",
    "div=100\n",
    "#ask how many peaks do u want to detect?\n",
    "#ask for threshold\n",
    "#calculate rain"
   ]
  },
  {
   "cell_type": "code",
   "execution_count": 12,
   "metadata": {},
   "outputs": [
    {
     "data": {
      "text/plain": [
       "array([[2.71971122e+03, 6.86848836e+03, 1.89503683e+04, 2.26200175e+04],\n",
       "       [7.32865269e-04, 4.21842514e-05, 2.24326908e-05, 7.51076568e-07],\n",
       "       [1.00000000e+00, 1.00000000e+00, 1.00000000e+00, 1.00000000e+00],\n",
       "       [2.54000000e+02, 2.89500000e+03, 1.05860000e+04, 1.29220000e+04]])"
      ]
     },
     "execution_count": 12,
     "metadata": {},
     "output_type": "execute_result"
    }
   ],
   "source": [
    "#find peaks_1_ use a function offered by scipy\n",
    "import scipy.signal as sci\n",
    "peaks,prop=sci.find_peaks(d,height=0.001*max(d),distance=20)\n",
    "temp=np.ones(len(peaks),dtype=int)\n",
    "pks_cddt=np.vstack((X_d[peaks],d[peaks],temp,peaks))\n",
    "pks_cddt"
   ]
  },
  {
   "cell_type": "code",
   "execution_count": 13,
   "metadata": {},
   "outputs": [
    {
     "data": {
      "text/plain": [
       "array([  254,  2895, 10586, 12922])"
      ]
     },
     "execution_count": 13,
     "metadata": {},
     "output_type": "execute_result"
    }
   ],
   "source": [
    "#find the weak signals, merge the strong signals\n",
    "for i in range(0,len(peaks)-1):\n",
    "    j=i+1\n",
    "    while j<len(peaks) and abs(pks_cddt[0,i]-pks_cddt[0,j])<2000:\n",
    "        if pks_cddt[1,i]<pks_cddt[1,j]:\n",
    "            pks_cddt[2,i]=0\n",
    "        else:\n",
    "            pks_cddt[2,j]=0\n",
    "        j+=1\n",
    "#b= a[np.where((a[:,0]>0) & (a[:,0]<6))]\n",
    "pks=pks_cddt[:,np.where(pks_cddt[2,:]==1)]\n",
    "peaks=np.array(pks[3],dtype=int).flatten()\n",
    "peaks"
   ]
  },
  {
   "cell_type": "code",
   "execution_count": 14,
   "metadata": {},
   "outputs": [
    {
     "data": {
      "text/plain": [
       "254       2572.49341\n",
       "2895      2658.19727\n",
       "7650      2743.50732\n",
       "10586     2831.28613\n",
       "12922    19063.14840\n",
       "Name: Ch1 Amplitude, dtype: float64"
      ]
     },
     "execution_count": 14,
     "metadata": {},
     "output_type": "execute_result"
    }
   ],
   "source": [
    "#find peaks_2(define a function)\n",
    "\n",
    "def fp(X,d,bw=20):\n",
    "    p=np.zeros(10000,dtype='int16')#will store the index of peaks\n",
    "    count=0\n",
    "    for i in range(1,len(X)):\n",
    "        start=i-bw\n",
    "        end=i+bw\n",
    "        if start<0:\n",
    "            start=0\n",
    "        if end>len(X)-1:\n",
    "            end=len(X)-1\n",
    "        if d[i]>=max(d[start:i+1]) and d[i]>=max(d[i:end+1]):\n",
    "            p[count]=i\n",
    "            count+=1\n",
    "    return p[0:count],X[p[0:count]],d[p[0:count]]#return index of peaks, Amplitude of peaks and density of peaks\n",
    "index,peaks_2,pdensity=fp(X,d)\n",
    "peaks_2"
   ]
  },
  {
   "cell_type": "code",
   "execution_count": 15,
   "metadata": {},
   "outputs": [
    {
     "data": {
      "text/plain": [
       "array([  254,  2895, 10586], dtype=int16)"
      ]
     },
     "execution_count": 15,
     "metadata": {},
     "output_type": "execute_result"
    }
   ],
   "source": [
    "#remove the peaks lower than 1/n of maximium height\n",
    "def rp(p,d,n=100):\n",
    "    dm=max(d)/n\n",
    "    p=p[d[p]>dm]\n",
    "    return p\n",
    "rp(index,d)"
   ]
  },
  {
   "cell_type": "code",
   "execution_count": 16,
   "metadata": {
    "scrolled": true
   },
   "outputs": [
    {
     "name": "stdout",
     "output_type": "stream",
     "text": [
      "[ 508.7335735  2385.0960086  2750.09132012  332.94209188] [5.30085605e-04 7.64754283e-08 1.57274064e-07 6.83966309e-07]\n"
     ]
    }
   ],
   "source": [
    "\n",
    "#find width\n",
    "wid,hei,left,right=sci.peak_widths(d,peaks,rel_height=1)\n",
    "print(wid,hei)"
   ]
  },
  {
   "cell_type": "code",
   "execution_count": 17,
   "metadata": {},
   "outputs": [
    {
     "name": "stdout",
     "output_type": "stream",
     "text": [
      "R 1 = 2.8673265111037094\n",
      "R 2 = 4.7055264741878435\n",
      "R 3 = 2.3805445202841735\n"
     ]
    }
   ],
   "source": [
    "for i in range(len(peaks)-1):\n",
    "    R=(X_d[peaks[i+1]]-X_d[peaks[i]])/(0.5*(wid[i]+wid[i+1]))\n",
    "    print(\"R\",i+1,'=',R)\n"
   ]
  }
 ],
 "metadata": {
  "kernelspec": {
   "display_name": "Python 3",
   "language": "python",
   "name": "python3"
  },
  "language_info": {
   "codemirror_mode": {
    "name": "ipython",
    "version": 3
   },
   "file_extension": ".py",
   "mimetype": "text/x-python",
   "name": "python",
   "nbconvert_exporter": "python",
   "pygments_lexer": "ipython3",
   "version": "3.7.4"
  }
 },
 "nbformat": 4,
 "nbformat_minor": 2
}
